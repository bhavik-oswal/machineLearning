{
 "cells": [
  {
   "cell_type": "markdown",
   "id": "c96c7359-b353-471a-8bbb-2f47cf8e37a0",
   "metadata": {},
   "source": [
    "<h1> Cross entropy/ Log-Loss function </h1>"
   ]
  },
  {
   "cell_type": "code",
   "execution_count": null,
   "id": "c44cfe91-824b-4502-acec-8d97b996455b",
   "metadata": {},
   "outputs": [],
   "source": []
  }
 ],
 "metadata": {
  "kernelspec": {
   "display_name": "Python 3 (ipykernel)",
   "language": "python",
   "name": "python3"
  },
  "language_info": {
   "codemirror_mode": {
    "name": "ipython",
    "version": 3
   },
   "file_extension": ".py",
   "mimetype": "text/x-python",
   "name": "python",
   "nbconvert_exporter": "python",
   "pygments_lexer": "ipython3",
   "version": "3.12.7"
  }
 },
 "nbformat": 4,
 "nbformat_minor": 5
}
